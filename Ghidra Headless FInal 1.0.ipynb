{
 "cells": [
  {
   "cell_type": "code",
   "execution_count": null,
   "id": "bb6e941a-bb2d-46ee-bd05-0ec934603d9d",
   "metadata": {},
   "outputs": [],
   "source": [
    "%%time\n",
    "import pandas as pd\n",
    "import seaborn as sns\n",
    "import os\n",
    "import hashlib\n",
    "import math\n",
    "import csv\n",
    "import itertools\n",
    "import pandas_bokeh\n",
    "from collections import Counter\n",
    "import matplotlib.pyplot as plt\n",
    "\n",
    "pandas_bokeh.output_notebook()\n",
    "import jupyter_black\n",
    "\n",
    "jupyter_black.load()"
   ]
  },
  {
   "cell_type": "markdown",
   "id": "fa315a41-2100-4cf7-bbb1-b50c5940eeba",
   "metadata": {},
   "source": [
    "<h1>Ghidra Headless Script</h1>"
   ]
  },
  {
   "cell_type": "code",
   "execution_count": null,
   "id": "4411d174-58e2-4899-a98e-8a02325ff5b0",
   "metadata": {},
   "outputs": [],
   "source": [
    "%%time\n",
    "%%writefile gheadless.py\n",
    "import csv\n",
    "from ghidra.program.util import DefinedDataIterator, CyclomaticComplexity\n",
    "\n",
    "dangerous_functions = [\"system\", \"execve\", \"execle\", \"execvp\", \"execlp\", \"doSystemCmd\"]\n",
    "\n",
    "fm = currentProgram.getFunctionManager()\n",
    "\n",
    "# Collecting information\n",
    "files = currentProgram.getName()\n",
    "arches = currentProgram.getLanguage().toString()\n",
    "hashes = currentProgram.getExecutableSHA256()\n",
    "strings = [str(s) for s in DefinedDataIterator.definedStrings(currentProgram)]\n",
    "all_funcs = list(fm.getFunctions(True))\n",
    "total_cc = 0\n",
    "system_xrefs_details = []\n",
    "\n",
    "# Find dangerous functions and their xrefs\n",
    "for func in all_funcs:\n",
    "    if func.getName() in dangerous_functions:\n",
    "        entry_point = func.getEntryPoint()\n",
    "        references = getReferencesTo(entry_point)\n",
    "        for xref in references:\n",
    "            # Fetching the referencing function details\n",
    "            ref_func = fm.getFunctionContaining(xref.getFromAddress())\n",
    "            if ref_func:\n",
    "                # Collecting address and function name\n",
    "                detail = \"{} ({})\".format(xref.getFromAddress(), ref_func.getName())\n",
    "                system_xrefs_details.append(detail)\n",
    "\n",
    "num_calls_in_system_xrefs = len(system_xrefs_details)\n",
    "\n",
    "# Calculating average cyclomatic complexity\n",
    "for func in all_funcs:\n",
    "    total_cc += CyclomaticComplexity().calculateCyclomaticComplexity(func, monitor)\n",
    "\n",
    "# Calculating average cyclomatic complexity\n",
    "num_funcs = len(all_funcs)\n",
    "average_cc = total_cc / num_funcs if num_funcs > 0 else 0\n",
    "\n",
    "# Saving results to CSV\n",
    "csv_file_path = \"./ghidratest.csv\"\n",
    "with open(csv_file_path, mode=\"a\") as csv_file:\n",
    "    fieldnames = [\n",
    "        \"File\",\n",
    "        \"Architecture\",\n",
    "        \"SHA256\",\n",
    "        \"Strings\",\n",
    "        \"Functions\",\n",
    "        \"System_Xrefs\",\n",
    "        \"Total_System_Xrefs\",\n",
    "        \"Average_Cyclomatic_Complexity\",\n",
    "    ]\n",
    "    writer = csv.DictWriter(csv_file, fieldnames=fieldnames)\n",
    "\n",
    "    # Writing data\n",
    "    writer.writerow(\n",
    "        {\n",
    "            \"File\": files,\n",
    "            \"Architecture\": arches,\n",
    "            \"SHA256\": hashes,\n",
    "            \"Strings\": \", \".join(strings),\n",
    "            \"Functions\": \", \".join([str(func) for func in all_funcs]),\n",
    "            \"System_Xrefs\": \"; \".join(system_xrefs_details),\n",
    "            \"Total_System_Xrefs\": num_calls_in_system_xrefs,\n",
    "            \"Average_Cyclomatic_Complexity\": round(average_cc, 2),\n",
    "        }\n",
    "    )"
   ]
  },
  {
   "cell_type": "code",
   "execution_count": null,
   "id": "481e8429-5a39-4e8a-9aa9-d58888e32ac6",
   "metadata": {},
   "outputs": [],
   "source": [
    "%%time\n",
    "!chmod +x gheadless.py"
   ]
  },
  {
   "cell_type": "code",
   "execution_count": null,
   "id": "e67aaf4b-cc0e-48e5-8b6d-d367dc809b11",
   "metadata": {},
   "outputs": [],
   "source": [
    "%%time\n",
    "ghidra_headless = \"/Applications/ghidra_11.2.1_PUBLIC/support/analyzeHeadless\""
   ]
  },
  {
   "cell_type": "code",
   "execution_count": null,
   "id": "e432fbab-1027-475f-9298-b6a46c8ace11",
   "metadata": {},
   "outputs": [],
   "source": [
    "%%time\n",
    "exe_path = \"./Tenda/Tenda/\"\n",
    "pyScript_path = \"./\"\n",
    "tempProject = \"./\"\n",
    "py_script = \"gheadless.py\""
   ]
  },
  {
   "cell_type": "code",
   "execution_count": null,
   "id": "e8f72539-cb1e-48b6-ae7e-727fe6dc332a",
   "metadata": {
    "scrolled": true
   },
   "outputs": [],
   "source": [
    "%%time\n",
    "!{ghidra_headless} {tempProject} TeamProject -import {exe_path} -analysisTimeoutPerFile 30  -scriptPath {pyScript_path} -postScript {py_script} -deleteProject -log my_log.txt"
   ]
  },
  {
   "cell_type": "markdown",
   "id": "ad34453e-a8a5-4554-81a6-26d92a47edc4",
   "metadata": {},
   "source": [
    "<h2>Creating a Pandas Dataframe from a CSV</h2>"
   ]
  },
  {
   "cell_type": "code",
   "execution_count": null,
   "id": "109c1783-a96e-4d6f-8054-d53ca550e171",
   "metadata": {},
   "outputs": [],
   "source": [
    "%%time\n",
    "df = pd.read_csv(\"ghidratest.csv\", header=None)"
   ]
  },
  {
   "cell_type": "markdown",
   "id": "170e53ad-89ce-43e3-90da-60c2e0d1498f",
   "metadata": {},
   "source": [
    "<h2>Naming Pandas Columns</h2>"
   ]
  },
  {
   "cell_type": "code",
   "execution_count": null,
   "id": "1e6cf455-d87e-4bcf-becd-78b67cea7887",
   "metadata": {
    "scrolled": true
   },
   "outputs": [],
   "source": [
    "%%time\n",
    "df.columns = [\n",
    "    \"File\",\n",
    "    \"Architecture\",\n",
    "    \"SHA256\",\n",
    "    \"Strings\",\n",
    "    \"Functions\",\n",
    "    \"System_Xrefs\",\n",
    "    \"Total_System_Xrefs\",\n",
    "    \"Average_Cyclomatic_Complexity\",\n",
    "]"
   ]
  },
  {
   "cell_type": "code",
   "execution_count": null,
   "id": "0af40cc9-41b8-43ef-b24b-318b90e5e0c7",
   "metadata": {},
   "outputs": [],
   "source": [
    "df.fillna(\"None\", inplace=True)"
   ]
  },
  {
   "cell_type": "markdown",
   "id": "a9bd72cc-2e88-46cd-8a53-ee44e05d7aa1",
   "metadata": {},
   "source": [
    "<h2>Verify the Pandas Output</h2>"
   ]
  },
  {
   "cell_type": "code",
   "execution_count": null,
   "id": "e3f8923a-0089-46f2-8232-82254aaeba35",
   "metadata": {},
   "outputs": [],
   "source": [
    "%%time\n",
    "df"
   ]
  },
  {
   "cell_type": "markdown",
   "id": "f4ddc19e-3e66-49dd-b2a8-90eab349db89",
   "metadata": {},
   "source": [
    "<h2>Checking Pandas Datatypes</h2>"
   ]
  },
  {
   "cell_type": "code",
   "execution_count": null,
   "id": "4d516a37-d826-4210-a967-b87ebebd6e08",
   "metadata": {},
   "outputs": [],
   "source": [
    "%%time\n",
    "df.dtypes"
   ]
  },
  {
   "cell_type": "markdown",
   "id": "f1c66016-a4e9-456e-88e5-d6bbefdb16c3",
   "metadata": {},
   "source": [
    "<h2>Changing Datatypes to String</h2>"
   ]
  },
  {
   "cell_type": "code",
   "execution_count": null,
   "id": "5d330140-b0d3-422a-bb72-5d92b58c326f",
   "metadata": {},
   "outputs": [],
   "source": [
    "%%time\n",
    "df[\"Strings\"] = df[\"Strings\"].astype(str)\n",
    "df[\"Functions\"] = df[\"Functions\"].astype(str)\n",
    "df[\"File\"] = df[\"File\"].astype(str)\n",
    "df[\"Architecture\"] = df[\"Architecture\"].astype(str)\n",
    "df[\"System_Xrefs\"] = df[\"System_Xrefs\"].astype(str)"
   ]
  },
  {
   "cell_type": "markdown",
   "id": "f430f520-21b8-4a2e-a940-9ef0da8806d8",
   "metadata": {},
   "source": [
    "<h2>Searching for Features</h2>"
   ]
  },
  {
   "cell_type": "code",
   "execution_count": null,
   "id": "db7eeec7-b080-409c-bb1f-68e030e99e54",
   "metadata": {},
   "outputs": [],
   "source": [
    "df[df[\"Architecture\"].str.contains(\"big\", na=False)]"
   ]
  },
  {
   "cell_type": "markdown",
   "id": "e2336ed0-2d3e-410c-bac6-f6ded7ee98c1",
   "metadata": {},
   "source": [
    "<h2>Using Query to Search for Features</h2>"
   ]
  },
  {
   "cell_type": "code",
   "execution_count": null,
   "id": "89155077-87ac-4da0-bb85-a8fba456ff8b",
   "metadata": {},
   "outputs": [],
   "source": [
    "df.query(\"Average_Cyclomatic_Complexity > 3\")"
   ]
  },
  {
   "cell_type": "code",
   "execution_count": null,
   "id": "999aca72-5e5e-42c5-9f10-602a4413efa5",
   "metadata": {},
   "outputs": [],
   "source": [
    "df_sorted = df.sort_values(by=\"Total_System_Xrefs\", ascending=False)"
   ]
  },
  {
   "cell_type": "code",
   "execution_count": null,
   "id": "dcf41019-b194-4069-b4e3-b753df7f524b",
   "metadata": {},
   "outputs": [],
   "source": [
    "%%time\n",
    "df_sorted.plot_bokeh.bar(\n",
    "    x=\"File\",\n",
    "    y=\"Total_System_Xrefs\",\n",
    "    figsize=(900, 700),\n",
    "    title=\"Potentially Dangerous Calls To System\",\n",
    "    xlabel=\"Binary\",\n",
    "    ylabel=\"Total\",\n",
    "    vertical_xlabel=True,\n",
    ")"
   ]
  },
  {
   "cell_type": "markdown",
   "id": "6e3cada2-5a1b-4834-9753-dcc19361230b",
   "metadata": {},
   "source": [
    "<h2>Creating Charts Using Pandas Bokeh</h2>"
   ]
  },
  {
   "cell_type": "code",
   "execution_count": null,
   "id": "dbcacc41-6c43-4d81-acdb-5b69b236e800",
   "metadata": {},
   "outputs": [],
   "source": [
    "df.plot_bokeh.bar(\n",
    "    x=\"File\",\n",
    "    y=[\"Average_Cyclomatic_Complexity\"],\n",
    "    figsize=(900, 700),\n",
    "    title=\"Average Cyclomatic Complexity\",\n",
    "    xlabel=\"File\",\n",
    "    ylabel=\"Average Cyclomatic Complexity\",\n",
    "    vertical_xlabel=True,\n",
    ")"
   ]
  },
  {
   "cell_type": "markdown",
   "id": "8b640a52-0eb9-47c3-864d-8d171fcf10b8",
   "metadata": {},
   "source": [
    "<h2>Reference Material</h2>"
   ]
  },
  {
   "cell_type": "markdown",
   "id": "35c266e7-f89b-4f91-bce5-b1fb0ee691e5",
   "metadata": {},
   "source": [
    "- 10 Minutes to Pandas: https://pandas.pydata.org/docs/user_guide/10min.html\n",
    "- Pandas Cookbook: https://pandas.pydata.org/docs/user_guide/cookbook.html#cookbook\n",
    "- Ghidra API: https://ghidra.re/ghidra_docs/api/index.html\n",
    "- Ghidra Snippets: https://github.com/HackOvert/GhidraSnippets\n",
    "- Auditing system calls for command injection vulnerabilities using Ghidra's PCode: https://youtu.be/UVNeg7Vqytc\n",
    "- cetfor/SystemCallAuditorGhidra.py: https://github.com/HackOvert/PotentiallyVulnerable/blob/main/CWE-78/SystemCallAuditorGhidra.py"
   ]
  }
 ],
 "metadata": {
  "kernelspec": {
   "display_name": "Python 3 (ipykernel)",
   "language": "python",
   "name": "python3"
  },
  "language_info": {
   "codemirror_mode": {
    "name": "ipython",
    "version": 3
   },
   "file_extension": ".py",
   "mimetype": "text/x-python",
   "name": "python",
   "nbconvert_exporter": "python",
   "pygments_lexer": "ipython3",
   "version": "3.9.6"
  }
 },
 "nbformat": 4,
 "nbformat_minor": 5
}
